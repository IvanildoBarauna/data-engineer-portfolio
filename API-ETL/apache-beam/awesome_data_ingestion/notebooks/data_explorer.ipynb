{
 "cells": [
  {
   "cell_type": "code",
   "execution_count": 9,
   "metadata": {},
   "outputs": [],
   "source": [
    "import pandas as pd\n",
    "\n",
    "def ReadParquetFile(currency: str):\n",
    "    df = pd.read_parquet(f\"/Users/ivbarauna/repos/data-engineer-portfolio/API-ETL/apache-beam/awesome_data_ingestion/data/external/kaggle/{currency}_1705010330-00000-of-00001.parquet\")\n",
    "    return df.head()"
   ]
  },
  {
   "cell_type": "code",
   "execution_count": 12,
   "metadata": {},
   "outputs": [
    {
     "data": {
      "text/html": [
       "<div>\n",
       "<style scoped>\n",
       "    .dataframe tbody tr th:only-of-type {\n",
       "        vertical-align: middle;\n",
       "    }\n",
       "\n",
       "    .dataframe tbody tr th {\n",
       "        vertical-align: top;\n",
       "    }\n",
       "\n",
       "    .dataframe thead th {\n",
       "        text-align: right;\n",
       "    }\n",
       "</style>\n",
       "<table border=\"1\" class=\"dataframe\">\n",
       "  <thead>\n",
       "    <tr style=\"text-align: right;\">\n",
       "      <th></th>\n",
       "      <th>code</th>\n",
       "      <th>codein</th>\n",
       "      <th>name</th>\n",
       "      <th>high</th>\n",
       "      <th>low</th>\n",
       "      <th>varBid</th>\n",
       "      <th>pctChange</th>\n",
       "      <th>bid</th>\n",
       "      <th>ask</th>\n",
       "      <th>timestamp</th>\n",
       "      <th>create_date</th>\n",
       "    </tr>\n",
       "  </thead>\n",
       "  <tbody>\n",
       "    <tr>\n",
       "      <th>0</th>\n",
       "      <td>BTC</td>\n",
       "      <td>BRL</td>\n",
       "      <td>Bitcoin/Real Brasileiro</td>\n",
       "      <td>239975</td>\n",
       "      <td>225000</td>\n",
       "      <td>-464</td>\n",
       "      <td>-0.2</td>\n",
       "      <td>226464</td>\n",
       "      <td>226504</td>\n",
       "      <td>1705010282</td>\n",
       "      <td>2024-01-11 18:58:02</td>\n",
       "    </tr>\n",
       "  </tbody>\n",
       "</table>\n",
       "</div>"
      ],
      "text/plain": [
       "  code codein                     name    high     low varBid pctChange  \\\n",
       "0  BTC    BRL  Bitcoin/Real Brasileiro  239975  225000   -464      -0.2   \n",
       "\n",
       "      bid     ask   timestamp          create_date  \n",
       "0  226464  226504  1705010282  2024-01-11 18:58:02  "
      ]
     },
     "execution_count": 12,
     "metadata": {},
     "output_type": "execute_result"
    }
   ],
   "source": [
    "ReadParquetFile(\"BTCBRL\")"
   ]
  },
  {
   "cell_type": "code",
   "execution_count": null,
   "metadata": {},
   "outputs": [],
   "source": []
  }
 ],
 "metadata": {
  "kernelspec": {
   "display_name": "awesome-data-ingestion-bT26QLZB-py3.9",
   "language": "python",
   "name": "python3"
  },
  "language_info": {
   "codemirror_mode": {
    "name": "ipython",
    "version": 3
   },
   "file_extension": ".py",
   "mimetype": "text/x-python",
   "name": "python",
   "nbconvert_exporter": "python",
   "pygments_lexer": "ipython3",
   "version": "3.9.6"
  }
 },
 "nbformat": 4,
 "nbformat_minor": 2
}
